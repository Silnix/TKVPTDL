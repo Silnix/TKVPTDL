{
  "nbformat": 4,
  "nbformat_minor": 0,
  "metadata": {
    "colab": {
      "provenance": [],
      "toc_visible": true
    },
    "kernelspec": {
      "name": "python3",
      "display_name": "Python 3"
    },
    "language_info": {
      "name": "python"
    }
  },
  "cells": [
    {
      "cell_type": "markdown",
      "source": [
        "#BUỔI 1"
      ],
      "metadata": {
        "id": "8zRCZTnSMuLG"
      }
    },
    {
      "cell_type": "markdown",
      "source": [
        "##Câu 1: Chèn thư viện cần thiết: (Gợi ý: pandas, numpy, matplotlib, seaborn. statistics, scipy.stats)"
      ],
      "metadata": {
        "id": "BZ87F6-XMy6a"
      }
    },
    {
      "cell_type": "code",
      "execution_count": 3,
      "metadata": {
        "id": "OENI7ZyVKge3"
      },
      "outputs": [],
      "source": [
        "import pandas as pd\n",
        "import numpy as np\n",
        "import matplotlib.pyplot as plt\n",
        "import seaborn as sns\n",
        "import statistics\n",
        "import scipy.stats as stats"
      ]
    },
    {
      "cell_type": "markdown",
      "source": [
        "##Câu 2: Đọc 2 file dữ liệu kết quả thi tốt nghiệp phổ thông năm 2022 và 2023 vào 2 dataframe."
      ],
      "metadata": {
        "id": "PXMk8ODeNu2b"
      }
    },
    {
      "cell_type": "code",
      "source": [
        "df_1 = pd.read_csv('/content/drive/MyDrive/PTVTKDL/Dulieu/diem_thi_thpt_2022.csv')\n",
        "print(df_1)"
      ],
      "metadata": {
        "id": "JcV3yxAVOJQo",
        "colab": {
          "base_uri": "https://localhost:8080/"
        },
        "collapsed": true,
        "outputId": "57c9bf3a-2223-4ce4-e1f7-119b7363a77f"
      },
      "execution_count": 5,
      "outputs": [
        {
          "output_type": "stream",
          "name": "stdout",
          "text": [
            "             sbd  toan  ngu_van  ngoai_ngu  vat_li  hoa_hoc  sinh_hoc  \\\n",
            "0        1000001   3.6     5.00        4.0     NaN      NaN       NaN   \n",
            "1        1000002   8.4     6.75        7.6     NaN      NaN       NaN   \n",
            "2        1000003   5.8     7.50        5.0     NaN      NaN       NaN   \n",
            "3        1000004   7.4     7.50        8.6     NaN      NaN       NaN   \n",
            "4        1000005   7.2     8.50        9.0     NaN      NaN       NaN   \n",
            "...          ...   ...      ...        ...     ...      ...       ...   \n",
            "995436  64006584   8.4     6.75        4.6     NaN      NaN       NaN   \n",
            "995437  64006585   5.6     6.50        2.8     NaN      NaN       NaN   \n",
            "995438  64006586   5.8     6.00        6.6     NaN      NaN       NaN   \n",
            "995439  64006587   7.6     6.75        7.0     NaN      NaN       NaN   \n",
            "995440  64006588   6.6     4.50        3.2     NaN      NaN       NaN   \n",
            "\n",
            "        lich_su  dia_li  gdcd  \n",
            "0          2.75    6.00  8.75  \n",
            "1          8.50    7.50  8.25  \n",
            "2          7.25    5.50  8.75  \n",
            "3          7.50    6.50  7.50  \n",
            "4          8.00    8.50  8.25  \n",
            "...         ...     ...   ...  \n",
            "995436     6.50    6.75  9.00  \n",
            "995437     6.25    6.75  8.50  \n",
            "995438     7.25    8.00  8.00  \n",
            "995439     8.75    7.25  9.75  \n",
            "995440     3.00    6.00  7.50  \n",
            "\n",
            "[995441 rows x 10 columns]\n"
          ]
        }
      ]
    },
    {
      "cell_type": "code",
      "source": [
        "df_2 = pd.read_excel('/content/drive/MyDrive/PTVTKDL/Dulieu/diem_thi_thpt_2023_dl tho.xlsx',sheet_name='diem_thi_thpt_2023')\n",
        "print(df_2)"
      ],
      "metadata": {
        "colab": {
          "base_uri": "https://localhost:8080/"
        },
        "collapsed": true,
        "id": "sDfOtqPSRuft",
        "outputId": "aa4a8749-703c-4401-b43d-cf0e81421337"
      },
      "execution_count": 6,
      "outputs": [
        {
          "output_type": "stream",
          "name": "stdout",
          "text": [
            "              sbd  toan  ngu_van  ngoai_ngu  vat_li  hoa_hoc  sinh_hoc  \\\n",
            "0         1000001   8.4     8.50        9.2     NaN      NaN       NaN   \n",
            "1         1000002   7.2     8.50        9.2     NaN      NaN       NaN   \n",
            "2         1000003   NaN     6.50        NaN     NaN      NaN       NaN   \n",
            "3         1000004   7.8     8.25        7.8     NaN      NaN       NaN   \n",
            "4         1000005   7.2     8.00        7.8     NaN      NaN       NaN   \n",
            "...           ...   ...      ...        ...     ...      ...       ...   \n",
            "1022055  64006933   7.8     6.75        5.4     NaN      NaN       NaN   \n",
            "1022056  64006934   7.4     7.50        6.0     6.0     5.75      6.25   \n",
            "1022057  64006935   6.4     7.00        3.0     NaN      NaN       NaN   \n",
            "1022058  64006936   6.6     7.00        5.8     NaN      NaN       NaN   \n",
            "1022059  64006937   NaN     5.00        NaN     NaN      NaN       NaN   \n",
            "\n",
            "         lich_su  dia_li  gdcd ma_ngoai_ngu  \n",
            "0           6.75    6.00  9.00           N1  \n",
            "1           8.75    6.50  8.50           N1  \n",
            "2           9.25    7.50   NaN          NaN  \n",
            "3           4.50    6.25  8.25           N1  \n",
            "4           4.75    6.75  8.25           N1  \n",
            "...          ...     ...   ...          ...  \n",
            "1022055     8.50    7.75  9.75           N1  \n",
            "1022056      NaN     NaN   NaN           N1  \n",
            "1022057     5.50    5.75  7.25           N1  \n",
            "1022058     6.50    6.50  9.25           N1  \n",
            "1022059     4.25    4.75   NaN          NaN  \n",
            "\n",
            "[1022060 rows x 11 columns]\n"
          ]
        }
      ]
    },
    {
      "cell_type": "markdown",
      "source": [
        "##Câu 3: Thực hiện mô tả dữ liệu và ghi nhận xét (Ví dụ: Cho biết có bao nhiêu học sinh tham gia vào mỗi kỳ thi, điểm cao nhất và thấp nhất của từng môn thi trong từng năm, trung bình, trung vị. Qua đó cho biết trong 2 năm 2022-2023, kết quả thi của từng môn có sự biến thiên như thế nào?...)"
      ],
      "metadata": {
        "id": "wdkSCIWsS4Lo"
      }
    },
    {
      "cell_type": "code",
      "source": [
        "def describe_data(df, year):\n",
        "  print(f\"Mô tả dữ liệu năm {year}\")\n",
        "  print(\"Số học sinh tham gia:\", len(df))\n",
        "  for col in df.columns[2:]:\n",
        "    if pd.api.types.is_numeric_dtype(df[col]):\n",
        "      print(f\"Môn: {col}\")\n",
        "      print(\"Điểm cao nhất:\", df[col].max())\n",
        "      print(\"Điểm thấp nhất:\", df[col].min())\n",
        "      print(\"Điểm trung bình:\", df[col].mean())\n",
        "      print(\"Điểm trung vị:\", df[col].median())\n",
        "      print(\"Độ lệch chuẩn:\", df[col].std()) # Thêm độ lệch chuẩn\n",
        "      print(\"Phân vị 25%:\", df[col].quantile(0.25)) # Thêm phân vị 25%\n",
        "      print(\"Phân vị 75%:\", df[col].quantile(0.75)) # Thêm phân vị 75%\n",
        "    else:\n",
        "      print(f\"Bỏ qua cột {col} vì không phải kiểu dữ liệu số\")\n",
        "\n",
        "describe_data(df_1,2022)\n",
        "describe_data(df_2,2023)\n",
        "\n",
        "# So sánh sự biến thiên giữa 2 năm\n",
        "print(\"\\nSo sánh sự biến thiên giữa năm 2022 và 2023:\")\n",
        "for col in df_1.columns[2:]:\n",
        "    if col in df_2.columns and pd.api.types.is_numeric_dtype(df_1[col]) and pd.api.types.is_numeric_dtype(df_2[col]):\n",
        "        mean_2022 = df_1[col].mean()\n",
        "        mean_2023 = df_2[col].mean()\n",
        "        std_2022 = df_1[col].std()\n",
        "        std_2023 = df_2[col].std()\n",
        "\n",
        "        print(f\"Môn {col}:\")\n",
        "        print(f\"  Trung bình năm 2022: {mean_2022:.2f}, Trung bình năm 2023: {mean_2023:.2f}\")\n",
        "        print(f\"  Độ lệch chuẩn năm 2022: {std_2022:.2f}, Độ lệch chuẩn năm 2023: {std_2023:.2f}\")\n",
        "        # Thêm so sánh bằng t-test nếu cần\n",
        "        t_stat, p_val = stats.ttest_ind(df_1[col].dropna(), df_2[col].dropna()) # Sử dụng t-test để so sánh\n",
        "        print(f\"  T-statistic: {t_stat:.2f}, P-value: {p_val:.3f}\") # In ra t-statistic và p-value\n",
        "        if p_val < 0.05:\n",
        "          print(\"  Có sự khác biệt đáng kể về điểm trung bình giữa hai năm.\")\n",
        "        else:\n",
        "          print(\"  Không có sự khác biệt đáng kể về điểm trung bình giữa hai năm.\")"
      ],
      "metadata": {
        "colab": {
          "base_uri": "https://localhost:8080/"
        },
        "id": "K6ZUejO4c9wO",
        "outputId": "49ac2e47-95f3-437e-c8a3-f3adcb7ce20c"
      },
      "execution_count": 37,
      "outputs": [
        {
          "output_type": "stream",
          "name": "stdout",
          "text": [
            "Mô tả dữ liệu năm 2022\n",
            "Số học sinh tham gia: 995441\n",
            "Môn: ngu_van\n",
            "Điểm cao nhất: 10.0\n",
            "Điểm thấp nhất: 0.0\n",
            "Điểm trung bình: 6.5077457364783395\n",
            "Điểm trung vị: 6.5\n",
            "Độ lệch chuẩn: 1.379601895965237\n",
            "Phân vị 25%: 5.58\n",
            "Phân vị 75%: 7.5\n",
            "Môn: ngoai_ngu\n",
            "Điểm cao nhất: 10.0\n",
            "Điểm thấp nhất: 0.0\n",
            "Điểm trung bình: 5.157686401128404\n",
            "Điểm trung vị: 4.8\n",
            "Độ lệch chuẩn: 1.9495474568318674\n",
            "Phân vị 25%: 3.6\n",
            "Phân vị 75%: 6.6\n",
            "Môn: vat_li\n",
            "Điểm cao nhất: 10.0\n",
            "Điểm thấp nhất: 0.0\n",
            "Điểm trung bình: 6.7237791185261875\n",
            "Điểm trung vị: 7.0\n",
            "Độ lệch chuẩn: 1.4419252633650625\n",
            "Phân vị 25%: 5.75\n",
            "Phân vị 75%: 7.75\n",
            "Môn: hoa_hoc\n",
            "Điểm cao nhất: 10.0\n",
            "Điểm thấp nhất: 0.0\n",
            "Điểm trung bình: 6.703898071583269\n",
            "Điểm trung vị: 7.0\n",
            "Độ lệch chuẩn: 1.6003930712214827\n",
            "Phân vị 25%: 5.5\n",
            "Phân vị 75%: 8.0\n",
            "Môn: sinh_hoc\n",
            "Điểm cao nhất: 10.0\n",
            "Điểm thấp nhất: 0.0\n",
            "Điểm trung bình: 5.01910859161137\n",
            "Điểm trung vị: 4.75\n",
            "Độ lệch chuẩn: 1.4482701031058363\n",
            "Phân vị 25%: 4.0\n",
            "Phân vị 75%: 6.0\n",
            "Môn: lich_su\n",
            "Điểm cao nhất: 10.0\n",
            "Điểm thấp nhất: 0.0\n",
            "Điểm trung bình: 6.343929542705204\n",
            "Điểm trung vị: 6.5\n",
            "Độ lệch chuẩn: 1.6128785745691276\n",
            "Phân vị 25%: 5.25\n",
            "Phân vị 75%: 7.5\n",
            "Môn: dia_li\n",
            "Điểm cao nhất: 10.0\n",
            "Điểm thấp nhất: 0.0\n",
            "Điểm trung bình: 6.67792936337598\n",
            "Điểm trung vị: 6.75\n",
            "Độ lệch chuẩn: 1.2150133562803107\n",
            "Phân vị 25%: 5.75\n",
            "Phân vị 75%: 7.5\n",
            "Môn: gdcd\n",
            "Điểm cao nhất: 10.0\n",
            "Điểm thấp nhất: 0.0\n",
            "Điểm trung bình: 8.033266407260486\n",
            "Điểm trung vị: 8.25\n",
            "Độ lệch chuẩn: 1.0672721751320449\n",
            "Phân vị 25%: 7.5\n",
            "Phân vị 75%: 8.75\n",
            "Mô tả dữ liệu năm 2023\n",
            "Số học sinh tham gia: 1022060\n",
            "Môn: ngu_van\n",
            "Điểm cao nhất: 10.0\n",
            "Điểm thấp nhất: 0.0\n",
            "Điểm trung bình: 6.858193920290723\n",
            "Điểm trung vị: 7.0\n",
            "Độ lệch chuẩn: 1.3264706479824535\n",
            "Phân vị 25%: 6.0\n",
            "Phân vị 75%: 7.75\n",
            "Môn: ngoai_ngu\n",
            "Điểm cao nhất: 10.0\n",
            "Điểm thấp nhất: 0.0\n",
            "Điểm trung bình: 5.462410428185339\n",
            "Điểm trung vị: 5.2\n",
            "Độ lệch chuẩn: 1.9663531727085009\n",
            "Phân vị 25%: 4.0\n",
            "Phân vị 75%: 7.0\n",
            "Môn: vat_li\n",
            "Điểm cao nhất: 10.0\n",
            "Điểm thấp nhất: 0.0\n",
            "Điểm trung bình: 6.57389994773663\n",
            "Điểm trung vị: 6.75\n",
            "Độ lệch chuẩn: 1.4868186063831075\n",
            "Phân vị 25%: 5.5\n",
            "Phân vị 75%: 7.75\n",
            "Môn: hoa_hoc\n",
            "Điểm cao nhất: 10.0\n",
            "Điểm thấp nhất: 0.0\n",
            "Điểm trung bình: 6.744645981019024\n",
            "Điểm trung vị: 7.0\n",
            "Độ lệch chuẩn: 1.4284676902382774\n",
            "Phân vị 25%: 5.75\n",
            "Phân vị 75%: 7.75\n",
            "Môn: sinh_hoc\n",
            "Điểm cao nhất: 10.0\n",
            "Điểm thấp nhất: 0.0\n",
            "Điểm trung bình: 6.394932614555256\n",
            "Điểm trung vị: 6.5\n",
            "Độ lệch chuẩn: 1.2067717357380605\n",
            "Phân vị 25%: 5.5\n",
            "Phân vị 75%: 7.25\n",
            "Môn: lich_su\n",
            "Điểm cao nhất: 10.0\n",
            "Điểm thấp nhất: 0.0\n",
            "Điểm trung bình: 6.025629273374527\n",
            "Điểm trung vị: 6.0\n",
            "Độ lệch chuẩn: 1.5529305942496907\n",
            "Phân vị 25%: 5.0\n",
            "Phân vị 75%: 7.25\n",
            "Môn: dia_li\n",
            "Điểm cao nhất: 10.0\n",
            "Điểm thấp nhất: 0.0\n",
            "Điểm trung bình: 6.147522700818314\n",
            "Điểm trung vị: 6.25\n",
            "Độ lệch chuẩn: 1.1687316558417937\n",
            "Phân vị 25%: 5.5\n",
            "Phân vị 75%: 7.0\n",
            "Môn: gdcd\n",
            "Điểm cao nhất: 10.0\n",
            "Điểm thấp nhất: 0.0\n",
            "Điểm trung bình: 8.285804542206943\n",
            "Điểm trung vị: 8.5\n",
            "Độ lệch chuẩn: 1.1376376545904523\n",
            "Phân vị 25%: 7.75\n",
            "Phân vị 75%: 9.25\n",
            "Bỏ qua cột ma_ngoai_ngu vì không phải kiểu dữ liệu số\n",
            "\n",
            "So sánh sự biến thiên giữa năm 2022 và 2023:\n",
            "Môn ngu_van:\n",
            "  Trung bình năm 2022: 6.51, Trung bình năm 2023: 6.86\n",
            "  Độ lệch chuẩn năm 2022: 1.38, Độ lệch chuẩn năm 2023: 1.33\n",
            "  T-statistic: -182.67, P-value: 0.000\n",
            "  Có sự khác biệt đáng kể về điểm trung bình giữa hai năm.\n",
            "Môn ngoai_ngu:\n",
            "  Trung bình năm 2022: 5.16, Trung bình năm 2023: 5.46\n",
            "  Độ lệch chuẩn năm 2022: 1.95, Độ lệch chuẩn năm 2023: 1.97\n",
            "  T-statistic: -102.98, P-value: 0.000\n",
            "  Có sự khác biệt đáng kể về điểm trung bình giữa hai năm.\n",
            "Môn vat_li:\n",
            "  Trung bình năm 2022: 6.72, Trung bình năm 2023: 6.57\n",
            "  Độ lệch chuẩn năm 2022: 1.44, Độ lệch chuẩn năm 2023: 1.49\n",
            "  T-statistic: 41.34, P-value: 0.000\n",
            "  Có sự khác biệt đáng kể về điểm trung bình giữa hai năm.\n",
            "Môn hoa_hoc:\n",
            "  Trung bình năm 2022: 6.70, Trung bình năm 2023: 6.74\n",
            "  Độ lệch chuẩn năm 2022: 1.60, Độ lệch chuẩn năm 2023: 1.43\n",
            "  T-statistic: -10.88, P-value: 0.000\n",
            "  Có sự khác biệt đáng kể về điểm trung bình giữa hai năm.\n",
            "Môn sinh_hoc:\n",
            "  Trung bình năm 2022: 5.02, Trung bình năm 2023: 6.39\n",
            "  Độ lệch chuẩn năm 2022: 1.45, Độ lệch chuẩn năm 2023: 1.21\n",
            "  T-statistic: -415.18, P-value: 0.000\n",
            "  Có sự khác biệt đáng kể về điểm trung bình giữa hai năm.\n",
            "Môn lich_su:\n",
            "  Trung bình năm 2022: 6.34, Trung bình năm 2023: 6.03\n",
            "  Độ lệch chuẩn năm 2022: 1.61, Độ lệch chuẩn năm 2023: 1.55\n",
            "  T-statistic: 116.52, P-value: 0.000\n",
            "  Có sự khác biệt đáng kể về điểm trung bình giữa hai năm.\n",
            "Môn dia_li:\n",
            "  Trung bình năm 2022: 6.68, Trung bình năm 2023: 6.15\n",
            "  Độ lệch chuẩn năm 2022: 1.22, Độ lệch chuẩn năm 2023: 1.17\n",
            "  T-statistic: 257.53, P-value: 0.000\n",
            "  Có sự khác biệt đáng kể về điểm trung bình giữa hai năm.\n",
            "Môn gdcd:\n",
            "  Trung bình năm 2022: 8.03, Trung bình năm 2023: 8.29\n",
            "  Độ lệch chuẩn năm 2022: 1.07, Độ lệch chuẩn năm 2023: 1.14\n",
            "  T-statistic: -121.09, P-value: 0.000\n",
            "  Có sự khác biệt đáng kể về điểm trung bình giữa hai năm.\n"
          ]
        }
      ]
    },
    {
      "cell_type": "markdown",
      "source": [
        "###**Nhận xét:** Trong 2 năm 2022-2023, kết quả thi của từng môn sự biến thiên diễn ra như thế nào ?\n",
        "\n",
        "**1. Môn Ngữ Văn:**\n",
        "\n",
        "Điểm trung bình: Tăng từ 6.51 lên 6.86, cho thấy học sinh có kết quả tốt hơn trong năm 2023.\n",
        "\n",
        "Độ lệch chuẩn: Giảm từ 1.38 xuống 1.33, chỉ ra rằng điểm số phân bố đều hơn xung quanh giá trị trung bình.\n",
        "\n",
        "Phân vị 25% và 75%: Tăng từ 5.58 và 7.5 lên 6.0 và 7.75, cho thấy mức điểm khá và cao đều tăng.\n",
        "\n",
        "T-statistic và P-value: T-statistic là -182.67 và P-value là 0.000, khẳng định sự khác biệt này có ý nghĩa thống kê.\n",
        "\n",
        "\n",
        "Nhận xét: Có sự cải thiện rõ rệt về điểm số môn Ngữ Văn giữa hai năm, với điểm trung bình cao hơn và độ lệch chuẩn thấp hơn, cho thấy học sinh đạt kết quả cao hơn và phân bố điểm đồng đều hơn.\n",
        "\n",
        "**2. Môn Ngoại Ngữ:**\n",
        "\n",
        "Điểm trung bình: Tăng từ 5.16 lên 5.46, cho thấy kết quả thi Ngoại Ngữ của học sinh có sự cải thiện.\n",
        "\n",
        "Độ lệch chuẩn: Tăng từ 1.95 lên 1.97, cho thấy sự biến động về điểm số tăng nhẹ.\n",
        "\n",
        "Phân vị 25% và 75%: Tăng từ 3.6 và 6.6 lên 4.0 và 7.0, chỉ ra rằng điểm số ở phân vị thấp và cao đều tăng.\n",
        "\n",
        "T-statistic và P-value: T-statistic là -102.98 và P-value là 0.000, chứng minh sự khác biệt này có ý nghĩa thống kê.\n",
        "\n",
        "\n",
        "Nhận xét: Điểm trung bình môn Ngoại Ngữ đã tăng lên đáng kể, mặc dù sự biến động điểm số cũng tăng nhẹ, nhưng vẫn cho thấy kết quả tổng thể được cải thiện.\n",
        "\n",
        "**3. Môn Vật Lý:**\n",
        "\n",
        "Điểm trung bình: Giảm từ 6.72 xuống 6.57, chỉ ra rằng kết quả thi môn Vật Lý có sự suy giảm.\n",
        "\n",
        "Độ lệch chuẩn: Tăng từ 1.44 lên 1.49, cho thấy sự biến động về điểm số tăng.\n",
        "\n",
        "Phân vị 25% và 75%: Giảm từ 5.75 và 7.75 xuống 5.5 và 7.75, cho thấy điểm số ở mức khá giảm.\n",
        "\n",
        "T-statistic và P-value: T-statistic là 41.34 và P-value là 0.000, khẳng định sự khác biệt này có ý nghĩa thống kê.\n",
        "\n",
        "\n",
        "Nhận xét: Kết quả thi môn Vật Lý giảm nhẹ, với sự tăng nhẹ về độ biến động điểm số, cho thấy cần cải thiện phương pháp giảng dạy và học tập cho môn này.\n",
        "\n",
        "**4. Môn Hóa Học:**\n",
        "\n",
        "Điểm trung bình: Tăng nhẹ từ 6.70 lên 6.74, cho thấy sự cải thiện nhỏ về kết quả thi.\n",
        "\n",
        "Độ lệch chuẩn: Giảm từ 1.60 xuống 1.43, cho thấy sự giảm thiểu về biến động điểm số.\n",
        "\n",
        "Phân vị 25% và 75%: Tăng từ 5.5 và 8.0 lên 5.75 và 7.75, chỉ ra sự cải thiện nhẹ ở mức điểm khá và cao.\n",
        "\n",
        "T-statistic và P-value: T-statistic là -10.88 và P-value là 0.000, chứng minh sự khác biệt này có ý nghĩa thống kê.\n",
        "\n",
        "\n",
        "Nhận xét: Kết quả thi môn Hóa Học được cải thiện nhẹ, với sự giảm thiểu về độ biến động điểm số, cho thấy sự tiến bộ trong việc học tập môn này.\n",
        "\n",
        "**5. Môn Sinh Học:**\n",
        "\n",
        "Điểm trung bình: Tăng từ 5.02 lên 6.39, cho thấy sự cải thiện đáng kể về kết quả thi.\n",
        "\n",
        "Độ lệch chuẩn: Giảm từ 1.45 xuống 1.21, chỉ ra rằng sự biến động điểm số giảm.\n",
        "\n",
        "Phân vị 25% và 75%: Tăng từ 4.0 và 6.0 lên 5.5 và 7.25, cho thấy sự cải thiện rõ rệt ở mức điểm thấp và khá.\n",
        "\n",
        "T-statistic và P-value: T-statistic là -415.18 và P-value là 0.000, khẳng định sự khác biệt này có ý nghĩa thống kê.\n",
        "\n",
        "\n",
        "Nhận xét: Môn Sinh Học có sự cải thiện đáng kể về điểm trung bình, với sự giảm thiểu về biến động điểm số, cho thấy sự tiến bộ vượt bậc trong học tập.\n",
        "\n",
        "**6. Môn Lịch Sử:**\n",
        "\n",
        "Điểm trung bình: Giảm từ 6.34 xuống 6.03, cho thấy sự giảm nhẹ về kết quả thi.\n",
        "\n",
        "Độ lệch chuẩn: Giảm từ 1.61 xuống 1.55, chỉ ra rằng sự biến động điểm số giảm.\n",
        "\n",
        "Phân vị 25% và 75%: Giảm từ 5.25 và 7.5 xuống 5.0 và 7.25, cho thấy điểm số ở mức khá và cao giảm.\n",
        "\n",
        "T-statistic và P-value: T-statistic là 116.52 và P-value là 0.000, chứng minh sự khác biệt này có ý nghĩa thống kê.\n",
        "\n",
        "\n",
        "Nhận xét: Môn Lịch Sử có sự giảm nhẹ về điểm trung bình và sự giảm thiểu về biến động điểm số, cho thấy cần cải thiện phương pháp học tập và giảng dạy.\n",
        "\n",
        "**7. Môn Địa Lý:**\n",
        "\n",
        "Điểm trung bình: Giảm từ 6.68 xuống 6.15, cho thấy sự giảm nhẹ về kết quả thi.\n",
        "\n",
        "Độ lệch chuẩn: Giảm từ 1.22 xuống 1.17, chỉ ra rằng sự biến động điểm số giảm.\n",
        "\n",
        "Phân vị 25% và 75%: Giảm từ 5.75 và 7.5 xuống 5.5 và 7.0, cho thấy điểm số ở mức khá và cao giảm.\n",
        "\n",
        "T-statistic và P-value: T-statistic là 257.53 và P-value là 0.000, khẳng định sự khác biệt này có ý nghĩa thống kê.\n",
        "\n",
        "\n",
        "Nhận xét: Môn Địa Lý có sự giảm nhẹ về điểm trung bình và sự giảm thiểu về biến động điểm số, cho thấy cần tập trung cải thiện phương pháp giảng dạy và học tập.\n",
        "\n",
        "**8. Môn Giáo Dục Công Dân:**\n",
        "\n",
        "Điểm trung bình: Tăng từ 8.03 lên 8.29, cho thấy sự cải thiện về kết quả thi.\n",
        "\n",
        "Độ lệch chuẩn: Tăng từ 1.07 lên 1.14, cho thấy sự tăng nhẹ về biến động điểm số.\n",
        "\n",
        "Phân vị 25% và 75%: Tăng từ 7.5 và 8.75 lên 7.75 và 9.25, cho thấy sự cải thiện rõ rệt ở mức điểm cao.\n",
        "\n",
        "T-statistic và P-value: T-statistic là -121.09 và P-value là 0.000, chứng minh sự khác biệt này có ý nghĩa thống kê.\n",
        "\n",
        "\n",
        "Nhận xét: Môn Giáo Dục Công Dân có sự cải thiện về điểm trung bình và sự tăng nhẹ về biến động điểm số, cho thấy học sinh đạt kết quả tốt hơn và phân bố điểm đồng đều hơn.\n",
        "\n"
      ],
      "metadata": {
        "id": "wYERJwzvklJd"
      }
    },
    {
      "cell_type": "markdown",
      "source": [
        "###**Nhận xét:** Điểm số năm 2022"
      ],
      "metadata": {
        "id": "XGcp1pwir9hB"
      }
    },
    {
      "cell_type": "markdown",
      "source": [
        "###**Nhận xét:** Điểm số năm 2023"
      ],
      "metadata": {
        "id": "FjtZIi7rsHk6"
      }
    },
    {
      "cell_type": "markdown",
      "source": [
        "##Câu 4: Thống kê có bao nhiêu sinh viên/tổng số sinh viên không dự thi (không có điểm) trong từng môn ở từng năm trong 2 dataset trên."
      ],
      "metadata": {
        "id": "Rce4oMJcXRzC"
      }
    },
    {
      "cell_type": "code",
      "source": [
        "def thisinh_vang(df, year):\n",
        "    print(f\"Thống kê sinh viên không dự thi năm {year}\")\n",
        "    for col in df.columns[2:]:\n",
        "        if pd.api.types.is_numeric_dtype(df[col]):\n",
        "            missing_count = df[col].isnull().sum()\n",
        "            total_students = len(df)\n",
        "            print(f\"Môn {col}: {missing_count} / {total_students} sinh viên không có điểm\")\n",
        "        else:\n",
        "            print(f\"Bỏ qua cột {col} vì không phải kiểu dữ liệu số\")\n",
        "\n",
        "thisinh_vang(df_1, 2022)\n",
        "thisinh_vang(df_2, 2023)"
      ],
      "metadata": {
        "colab": {
          "base_uri": "https://localhost:8080/"
        },
        "collapsed": true,
        "id": "qIjMu7kYao_M",
        "outputId": "be421cde-a0cf-4c98-b773-8b237790c26c"
      },
      "execution_count": 34,
      "outputs": [
        {
          "output_type": "stream",
          "name": "stdout",
          "text": [
            "Thống kê sinh viên không dự thi năm 2022\n",
            "Môn ngu_van: 14034 / 995441 sinh viên không có điểm\n",
            "Môn ngoai_ngu: 124832 / 995441 sinh viên không có điểm\n",
            "Môn vat_li: 669918 / 995441 sinh viên không có điểm\n",
            "Môn hoa_hoc: 668074 / 995441 sinh viên không có điểm\n",
            "Môn sinh_hoc: 673243 / 995441 sinh viên không có điểm\n",
            "Môn lich_su: 335779 / 995441 sinh viên không có điểm\n",
            "Môn dia_li: 338020 / 995441 sinh viên không có điểm\n",
            "Môn gdcd: 441098 / 995441 sinh viên không có điểm\n",
            "Thống kê sinh viên không dự thi năm 2023\n",
            "Môn ngu_van: 13821 / 1022060 sinh viên không có điểm\n",
            "Môn ngoai_ngu: 141063 / 1022060 sinh viên không có điểm\n",
            "Môn vat_li: 694871 / 1022060 sinh viên không có điểm\n",
            "Môn hoa_hoc: 693942 / 1022060 sinh viên không có điểm\n",
            "Môn sinh_hoc: 697435 / 1022060 sinh viên không có điểm\n",
            "Môn lich_su: 338613 / 1022060 sinh viên không có điểm\n",
            "Môn dia_li: 339926 / 1022060 sinh viên không có điểm\n",
            "Môn gdcd: 456608 / 1022060 sinh viên không có điểm\n",
            "Bỏ qua cột ma_ngoai_ngu vì không phải kiểu dữ liệu số\n"
          ]
        }
      ]
    },
    {
      "cell_type": "markdown",
      "source": [
        "##Câu 5: Vẽ biểu đồ boxplot cho điểm thi môn Giáo dục công dân năm 2023"
      ],
      "metadata": {
        "id": "5ljG9IfGdh0i"
      }
    },
    {
      "cell_type": "code",
      "source": [
        "plt.figure(figsize=(8, 6))\n",
        "sns.boxplot(x=df_2['gdcd'])\n",
        "plt.title('Biểu đồ Boxplot điểm thi GDCD năm 2023')\n",
        "plt.xlabel('Điểm GDCD')\n",
        "plt.show()"
      ],
      "metadata": {
        "colab": {
          "base_uri": "https://localhost:8080/",
          "height": 0
        },
        "collapsed": true,
        "id": "5Zqu5oDrdpiA",
        "outputId": "107345bd-ba9d-4573-9422-5898f618a9aa"
      },
      "execution_count": 23,
      "outputs": [
        {
          "output_type": "display_data",
          "data": {
            "text/plain": [
              "<Figure size 800x600 with 1 Axes>"
            ],
            "image/png": "[encoded data removed]"
          },
          "metadata": {}
        }
      ]
    },
    {
      "cell_type": "markdown",
      "source": [
        "##Câu 6: Tách dataframe cho dữ liệu học sinh thuộc tỉnh Trà Vinh trong năm 2023"
      ],
      "metadata": {
        "id": "8kX7wSXLeLRZ"
      }
    },
    {
      "cell_type": "code",
      "source": [
        "df_hstv23 = df_2[df_2['sbd'].astype(str).str[:2] == '58']\n",
        "print(df_hstv23)"
      ],
      "metadata": {
        "colab": {
          "base_uri": "https://localhost:8080/"
        },
        "collapsed": true,
        "id": "ogI_MJJreRJR",
        "outputId": "fdc89678-4585-4de9-f958-5e662f2b7628"
      },
      "execution_count": 27,
      "outputs": [
        {
          "output_type": "stream",
          "name": "stdout",
          "text": [
            "             sbd  toan  ngu_van  ngoai_ngu  vat_li  hoa_hoc  sinh_hoc  \\\n",
            "965655  58000001   5.0     8.25        5.4     NaN      NaN       NaN   \n",
            "965656  58000002   6.0     6.75        3.4     NaN      NaN       NaN   \n",
            "965657  58000003   5.2     7.00        3.2     NaN      NaN       NaN   \n",
            "965658  58000004   7.6     7.75        7.6    5.75     7.50       7.5   \n",
            "965659  58000005   4.6     7.00        NaN     NaN      NaN       NaN   \n",
            "...          ...   ...      ...        ...     ...      ...       ...   \n",
            "974846  58009192   4.8     7.25        4.0     NaN      NaN       NaN   \n",
            "974847  58009193   4.8     7.50        3.4     NaN      NaN       NaN   \n",
            "974848  58009194   4.6     6.00        3.8     NaN      NaN       NaN   \n",
            "974849  58009195   4.0     6.50        3.4     NaN      NaN       NaN   \n",
            "974850  58009196   3.2     5.00        3.2    2.50     2.75       3.5   \n",
            "\n",
            "        lich_su  dia_li  gdcd ma_ngoai_ngu  \n",
            "965655     5.75    5.50  9.50           N1  \n",
            "965656     4.50    6.00  7.25           N1  \n",
            "965657     7.50    6.25  7.50           N1  \n",
            "965658      NaN     NaN   NaN           N1  \n",
            "965659     6.50    5.50   NaN          NaN  \n",
            "...         ...     ...   ...          ...  \n",
            "974846     7.25    6.75  8.25           N1  \n",
            "974847     5.50    6.50  8.00           N1  \n",
            "974848     5.75    7.75  8.75           N1  \n",
            "974849     3.50    4.50  8.25           N1  \n",
            "974850      NaN     NaN   NaN           N1  \n",
            "\n",
            "[9196 rows x 11 columns]\n"
          ]
        }
      ]
    },
    {
      "cell_type": "markdown",
      "source": [
        "##Câu 7: Tách dataframe cho dữ liệu học sinh thi môn ngoại ngữ là tiếng Anh trong năm 2022"
      ],
      "metadata": {
        "id": "ppCABbUIfdUs"
      }
    },
    {
      "cell_type": "code",
      "source": [
        "df_hsnna22 = df_1[df_1['ngoai_ngu'] > 0]\n",
        "print(df_hsnna22)"
      ],
      "metadata": {
        "colab": {
          "base_uri": "https://localhost:8080/"
        },
        "collapsed": true,
        "id": "p401GViUflTF",
        "outputId": "96a73d91-f6ff-40fd-9ba2-a87dea719d1d"
      },
      "execution_count": 32,
      "outputs": [
        {
          "output_type": "stream",
          "name": "stdout",
          "text": [
            "             sbd  toan  ngu_van  ngoai_ngu  vat_li  hoa_hoc  sinh_hoc  \\\n",
            "0        1000001   3.6     5.00        4.0     NaN      NaN       NaN   \n",
            "1        1000002   8.4     6.75        7.6     NaN      NaN       NaN   \n",
            "2        1000003   5.8     7.50        5.0     NaN      NaN       NaN   \n",
            "3        1000004   7.4     7.50        8.6     NaN      NaN       NaN   \n",
            "4        1000005   7.2     8.50        9.0     NaN      NaN       NaN   \n",
            "...          ...   ...      ...        ...     ...      ...       ...   \n",
            "995436  64006584   8.4     6.75        4.6     NaN      NaN       NaN   \n",
            "995437  64006585   5.6     6.50        2.8     NaN      NaN       NaN   \n",
            "995438  64006586   5.8     6.00        6.6     NaN      NaN       NaN   \n",
            "995439  64006587   7.6     6.75        7.0     NaN      NaN       NaN   \n",
            "995440  64006588   6.6     4.50        3.2     NaN      NaN       NaN   \n",
            "\n",
            "        lich_su  dia_li  gdcd  \n",
            "0          2.75    6.00  8.75  \n",
            "1          8.50    7.50  8.25  \n",
            "2          7.25    5.50  8.75  \n",
            "3          7.50    6.50  7.50  \n",
            "4          8.00    8.50  8.25  \n",
            "...         ...     ...   ...  \n",
            "995436     6.50    6.75  9.00  \n",
            "995437     6.25    6.75  8.50  \n",
            "995438     7.25    8.00  8.00  \n",
            "995439     8.75    7.25  9.75  \n",
            "995440     3.00    6.00  7.50  \n",
            "\n",
            "[870601 rows x 10 columns]\n"
          ]
        }
      ]
    },
    {
      "cell_type": "markdown",
      "source": [
        "##Câu 7.5: Tách dataframe cho dữ liệu học sinh thi môn ngoại ngữ là tiếng Anh trong năm 2023"
      ],
      "metadata": {
        "id": "eMz9bOVdiK9p"
      }
    },
    {
      "cell_type": "code",
      "source": [
        "df_hsnna23 = df_2[df_2['ma_ngoai_ngu'] == 'N1']\n",
        "print(df_hsnna23)"
      ],
      "metadata": {
        "colab": {
          "base_uri": "https://localhost:8080/"
        },
        "collapsed": true,
        "id": "ZoXEGUjCiSrB",
        "outputId": "a3745284-b2b6-468c-930b-15579fb93c21"
      },
      "execution_count": 35,
      "outputs": [
        {
          "output_type": "stream",
          "name": "stdout",
          "text": [
            "              sbd  toan  ngu_van  ngoai_ngu  vat_li  hoa_hoc  sinh_hoc  \\\n",
            "0         1000001   8.4     8.50        9.2     NaN      NaN       NaN   \n",
            "1         1000002   7.2     8.50        9.2     NaN      NaN       NaN   \n",
            "3         1000004   7.8     8.25        7.8     NaN      NaN       NaN   \n",
            "4         1000005   7.2     8.00        7.8     NaN      NaN       NaN   \n",
            "5         1000006   7.6     9.25        9.0     NaN      NaN       NaN   \n",
            "...           ...   ...      ...        ...     ...      ...       ...   \n",
            "1022054  64006932   6.6     7.75        6.0    5.75     7.00      8.25   \n",
            "1022055  64006933   7.8     6.75        5.4     NaN      NaN       NaN   \n",
            "1022056  64006934   7.4     7.50        6.0    6.00     5.75      6.25   \n",
            "1022057  64006935   6.4     7.00        3.0     NaN      NaN       NaN   \n",
            "1022058  64006936   6.6     7.00        5.8     NaN      NaN       NaN   \n",
            "\n",
            "         lich_su  dia_li  gdcd ma_ngoai_ngu  \n",
            "0           6.75    6.00  9.00           N1  \n",
            "1           8.75    6.50  8.50           N1  \n",
            "3           4.50    6.25  8.25           N1  \n",
            "4           4.75    6.75  8.25           N1  \n",
            "5           8.50    7.25  9.75           N1  \n",
            "...          ...     ...   ...          ...  \n",
            "1022054      NaN     NaN   NaN           N1  \n",
            "1022055     8.50    7.75  9.75           N1  \n",
            "1022056      NaN     NaN   NaN           N1  \n",
            "1022057     5.50    5.75  7.25           N1  \n",
            "1022058     6.50    6.50  9.25           N1  \n",
            "\n",
            "[876102 rows x 11 columns]\n"
          ]
        }
      ]
    },
    {
      "cell_type": "markdown",
      "source": [
        "##Câu 8: Thực hiện vẽ biểu đồ phù hợp cho điểm số của một môn học nào đó trong dataframe dữ liệu thi của tỉnh Trà Vinh và cho nhận xét"
      ],
      "metadata": {
        "id": "fd4wFBfcizwt"
      }
    },
    {
      "cell_type": "code",
      "source": [
        "plt.figure(figsize=(10, 6))\n",
        "sns.histplot(df_hstv23['toan'], kde=True)  # Sử dụng kde=True để hiển thị đường mật độ\n",
        "plt.title('Phân phối điểm môn Toán của học sinh tỉnh Trà Vinh năm 2023')\n",
        "plt.xlabel('Điểm Toán')\n",
        "plt.ylabel('Số lượng học sinh')\n",
        "plt.show()\n",
        "\n",
        "print(f\"Thống kê mô tả điểm Toán của học sinh tỉnh Trà Vinh năm 2023:\")\n",
        "print(df_hstv23['toan'].describe())"
      ],
      "metadata": {
        "colab": {
          "base_uri": "https://localhost:8080/",
          "height": 751
        },
        "id": "dxaKTJKJi7AN",
        "outputId": "6c9c0121-3879-4a95-ece3-15663d1fb5cc"
      },
      "execution_count": 38,
      "outputs": [
        {
          "output_type": "display_data",
          "data": {
            "text/plain": [
              "<Figure size 1000x600 with 1 Axes>"
            ],
            "image/png": "[encoded data removed]"
          },
          "metadata": {}
        },
        {
          "output_type": "stream",
          "name": "stdout",
          "text": [
            "Thống kê mô tả điểm Toán của học sinh tỉnh Trà Vinh năm 2023:\n",
            "count    8960.000000\n",
            "mean        5.477165\n",
            "std         1.574066\n",
            "min         1.200000\n",
            "25%         4.200000\n",
            "50%         5.600000\n",
            "75%         6.800000\n",
            "max         9.200000\n",
            "Name: toan, dtype: float64\n"
          ]
        }
      ]
    },
    {
      "cell_type": "markdown",
      "source": [
        "###**Nhận xét:** Quan sát biểu đồ histogram, ta có thể nhận xét về sự phân bố điểm môn Toán của học sinh tỉnh Trà Vinh năm 2023.\n",
        "* Điểm số tập trung chủ yếu xung quanh khoảng 6.\n",
        "* Các thanh theo đường phân phối được fit chặt chẽ, dữ liệu phù hợp với phân phối tốt. Suy ra: Có dạng Good fit.\n",
        "* Phần nhiều học sinh đạt điểm trung bình.\n",
        "* Độ phân tán: Các cột có độ cao khác nhau, cho thấy có sự phân tán nhất định. Tuy nhiên, độ phân tán không quá lớn, tập trung chủ yếu trong khoảng 5 đến 8 điểm.\n",
        "* Hình dạng gần giống với đường cong hình chuông cho thấy có xu hướng phân bố chuẩn (normal distribution).\n",
        "* Độ lệch có đường cong không hoàn toàn đối xứng, có phần đuôi kéo dài về phía điểm số cao hơn, Cho thấy một số lượng nhỏ học sinh đạt điểm rất cao.\n",
        "* Dựa vào hình dạng này có thể cho thấy học sinh nắm vững kiến thức và có kết quả tương đối đồng đều.\n",
        "\n",
        "\n",
        "\n"
      ],
      "metadata": {
        "id": "qmZkwmIImCGS"
      }
    },
    {
      "cell_type": "markdown",
      "source": [
        "##Câu 9: Tách dataframe cho dữ liệu học sinh thuộc tỉnh Trà Vinh trong năm 2022"
      ],
      "metadata": {
        "id": "w9EXjZ8bvReF"
      }
    },
    {
      "cell_type": "code",
      "source": [
        "df_hstv22 = df_2[df_2['sbd'].astype(str).str[:2] == '58']\n",
        "print(df_hstv22)"
      ],
      "metadata": {
        "colab": {
          "base_uri": "https://localhost:8080/"
        },
        "collapsed": true,
        "id": "9vXnfh85vV7R",
        "outputId": "57b3a2ff-c7bc-4f4b-8739-8f0b85d96f9b"
      },
      "execution_count": 39,
      "outputs": [
        {
          "output_type": "stream",
          "name": "stdout",
          "text": [
            "             sbd  toan  ngu_van  ngoai_ngu  vat_li  hoa_hoc  sinh_hoc  \\\n",
            "965655  58000001   5.0     8.25        5.4     NaN      NaN       NaN   \n",
            "965656  58000002   6.0     6.75        3.4     NaN      NaN       NaN   \n",
            "965657  58000003   5.2     7.00        3.2     NaN      NaN       NaN   \n",
            "965658  58000004   7.6     7.75        7.6    5.75     7.50       7.5   \n",
            "965659  58000005   4.6     7.00        NaN     NaN      NaN       NaN   \n",
            "...          ...   ...      ...        ...     ...      ...       ...   \n",
            "974846  58009192   4.8     7.25        4.0     NaN      NaN       NaN   \n",
            "974847  58009193   4.8     7.50        3.4     NaN      NaN       NaN   \n",
            "974848  58009194   4.6     6.00        3.8     NaN      NaN       NaN   \n",
            "974849  58009195   4.0     6.50        3.4     NaN      NaN       NaN   \n",
            "974850  58009196   3.2     5.00        3.2    2.50     2.75       3.5   \n",
            "\n",
            "        lich_su  dia_li  gdcd ma_ngoai_ngu  \n",
            "965655     5.75    5.50  9.50           N1  \n",
            "965656     4.50    6.00  7.25           N1  \n",
            "965657     7.50    6.25  7.50           N1  \n",
            "965658      NaN     NaN   NaN           N1  \n",
            "965659     6.50    5.50   NaN          NaN  \n",
            "...         ...     ...   ...          ...  \n",
            "974846     7.25    6.75  8.25           N1  \n",
            "974847     5.50    6.50  8.00           N1  \n",
            "974848     5.75    7.75  8.75           N1  \n",
            "974849     3.50    4.50  8.25           N1  \n",
            "974850      NaN     NaN   NaN           N1  \n",
            "\n",
            "[9196 rows x 11 columns]\n"
          ]
        }
      ]
    },
    {
      "cell_type": "markdown",
      "source": [
        "##Câu 10: Thực hiện vẽ biểu đồ so sánh về sự biến thiên điểm số giữa 2 năm 2022 và 2023 của học sinh thuộc tỉnh Trà Vinh và cho nhận xét"
      ],
      "metadata": {
        "id": "RuzeLjRVvkEd"
      }
    }
  ]
}